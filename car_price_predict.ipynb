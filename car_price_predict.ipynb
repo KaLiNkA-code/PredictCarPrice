{
 "cells": [
  {
   "cell_type": "markdown",
   "metadata": {},
   "source": [
    "##### Today I will train a model with multiple parameters that will predict car prices in the USA"
   ]
  },
  {
   "cell_type": "code",
   "execution_count": null,
   "metadata": {},
   "outputs": [],
   "source": [
    "from preprocess import preprocess\n",
    "from sklearn.model_selection import train_test_split\n",
    "import pandas as pd"
   ]
  },
  {
   "cell_type": "code",
   "execution_count": null,
   "metadata": {},
   "outputs": [],
   "source": [
    "dataset = pd.read_csv('C:\\Scripts\\PredictCarPrice\\data\\CarPrice_Assignment.csv')\n",
    "dataset.head()"
   ]
  },
  {
   "cell_type": "markdown",
   "metadata": {},
   "source": [
    "## Preprocess"
   ]
  },
  {
   "cell_type": "code",
   "execution_count": null,
   "metadata": {},
   "outputs": [],
   "source": [
    "features = preprocess(dataset)\n",
    "#  features.doornumber"
   ]
  },
  {
   "cell_type": "code",
   "execution_count": null,
   "metadata": {},
   "outputs": [],
   "source": [
    "train_df, val_test_df = train_test_split(features, train_size=0.6, random_state=0)\n",
    "val_df, test_df = train_test_split(val_test_df, test_size=0.5, random_state=0)\n",
    "\n",
    "train_target = train_df['price']\n",
    "train_X = train_df.loc[:,['horsepower', 'doornumber', 'peakrpm', 'highwaympg', 'citympg', 'compressionratio', 'stroke', 'boreratio', 'enginesize', 'wheelbase']]\n",
    "\n",
    "\n",
    "val_target = val_df['price']\n",
    "val_X = val_df.loc[:,['horsepower', 'doornumber', 'peakrpm', 'highwaympg', 'citympg', 'compressionratio', 'stroke', 'boreratio', 'enginesize', 'wheelbase']]\n",
    "\n",
    "test_target = test_df['price']\n",
    "test_X = test_df.loc[:,['horsepower', 'doornumber', 'peakrpm', 'highwaympg', 'citympg', 'compressionratio', 'stroke', 'boreratio', 'enginesize', 'wheelbase']]"
   ]
  },
  {
   "cell_type": "markdown",
   "metadata": {},
   "source": [
    "## data analysis"
   ]
  },
  {
   "cell_type": "code",
   "execution_count": null,
   "metadata": {},
   "outputs": [],
   "source": [
    "print('test')"
   ]
  }
 ],
 "metadata": {
  "kernelspec": {
   "display_name": "Python 3.8.6 64-bit",
   "language": "python",
   "name": "python3"
  },
  "language_info": {
   "codemirror_mode": {
    "name": "ipython",
    "version": 3
   },
   "file_extension": ".py",
   "mimetype": "text/x-python",
   "name": "python",
   "nbconvert_exporter": "python",
   "pygments_lexer": "ipython3",
   "version": "3.8.6"
  },
  "vscode": {
   "interpreter": {
    "hash": "723d4b7bc280cd31fdada53ad6420192b9a3a8d60631096143cc718cb9440dc1"
   }
  }
 },
 "nbformat": 4,
 "nbformat_minor": 2
}
